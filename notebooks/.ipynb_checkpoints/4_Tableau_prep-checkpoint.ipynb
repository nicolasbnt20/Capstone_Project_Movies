{
 "cells": [
  {
   "cell_type": "code",
   "execution_count": 1,
   "id": "c8126b46-e14c-4075-a229-cf8824cc3728",
   "metadata": {},
   "outputs": [],
   "source": [
    "import pandas as pd "
   ]
  },
  {
   "cell_type": "code",
   "execution_count": 2,
   "id": "050f8f33-d3b5-406c-bc32-4c4865ab94b1",
   "metadata": {},
   "outputs": [],
   "source": [
    "# This notebook is dedicated to getting our DataFrames ready for Tableau."
   ]
  },
  {
   "cell_type": "code",
   "execution_count": 3,
   "id": "96bc36ab-7876-4519-8980-6420fd35e142",
   "metadata": {},
   "outputs": [],
   "source": [
    "df_clean = pd.read_pickle(\"../data/processed/df_clean.pkl\")\n",
    "df_genres = pd.read_pickle(\"../data/processed/df_genres.pkl\")\n",
    "df_companies = pd.read_pickle(\"../data/processed/df_companies.pkl\")\n",
    "df_countries = pd.read_pickle(\"../data/processed/df_countries.pkl\")"
   ]
  },
  {
   "cell_type": "code",
   "execution_count": 4,
   "id": "fd1f87d7-f9ce-4951-8271-4cfa1c255dea",
   "metadata": {},
   "outputs": [],
   "source": [
    "df_clean_export = df_clean.drop(['genres', 'production_companies', 'production_countries'], axis=1)\n",
    "df_genres_export = df_genres.drop(['production_companies', 'production_countries'], axis=1)\n",
    "df_companies_export = df_companies.drop(['genres', 'production_countries'], axis=1)\n",
    "df_countries_export = df_countries.drop(['genres', 'production_companies'], axis=1)"
   ]
  },
  {
   "cell_type": "code",
   "execution_count": 6,
   "id": "8059ef7a-c32d-46d0-8cf8-49c33bad51f2",
   "metadata": {},
   "outputs": [],
   "source": [
    "df_clean_export.to_csv(\"../tableau/df_clean_export.csv\", index=False)\n",
    "df_genres_export.to_csv(\"../tableau/df_genres_export.csv\", index=False)\n",
    "df_companies_export.to_csv(\"../tableau/df_companies_export.csv\", index=False)\n",
    "df_countries_export.to_csv(\"../tableau/df_countries_export.csv\", index=False)"
   ]
  }
 ],
 "metadata": {
  "kernelspec": {
   "display_name": "theone",
   "language": "python",
   "name": "theone"
  },
  "language_info": {
   "codemirror_mode": {
    "name": "ipython",
    "version": 3
   },
   "file_extension": ".py",
   "mimetype": "text/x-python",
   "name": "python",
   "nbconvert_exporter": "python",
   "pygments_lexer": "ipython3",
   "version": "3.9.19"
  }
 },
 "nbformat": 4,
 "nbformat_minor": 5
}
